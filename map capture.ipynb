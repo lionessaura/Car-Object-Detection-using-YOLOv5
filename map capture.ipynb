{
 "cells": [
  {
   "cell_type": "code",
   "execution_count": 12,
   "id": "0da317b6",
   "metadata": {},
   "outputs": [],
   "source": [
    "from selenium import webdriver\n",
    "from selenium.webdriver.support.ui import WebDriverWait\n",
    "from selenium.webdriver.chrome.options import Options\n",
    "import time"
   ]
  },
  {
   "cell_type": "code",
   "execution_count": 13,
   "id": "86bf8af6",
   "metadata": {
    "scrolled": true
   },
   "outputs": [
    {
     "name": "stderr",
     "output_type": "stream",
     "text": [
      "C:\\Users\\cdlee\\AppData\\Local\\Temp/ipykernel_10412/4100653882.py:2: DeprecationWarning: executable_path has been deprecated, please pass in a Service object\n",
      "  browser = webdriver.Chrome(executable_path='./chromedriver')\n",
      "C:\\Users\\cdlee\\AppData\\Local\\Temp/ipykernel_10412/4100653882.py:5: DeprecationWarning: find_element_by_css_selector is deprecated. Please use find_element(by=By.CSS_SELECTOR, value=css_selector) instead\n",
      "  browser.find_element_by_css_selector(\"#vid > div.vjs-control-bar > button.vjs-fullscreen-control.vjs-control.vjs-button\").click()\n"
     ]
    },
    {
     "name": "stdout",
     "output_type": "stream",
     "text": [
      "1번째 캡처 완료했습니다!\n",
      "05월 11일 19시 17분 05초\n",
      "2번째 캡처 완료했습니다!\n",
      "05월 11일 19시 17분 30초\n",
      "3번째 캡처 완료했습니다!\n",
      "05월 11일 19시 17분 55초\n",
      "4번째 캡처 완료했습니다!\n",
      "05월 11일 19시 18분 19초\n",
      "5번째 캡처 완료했습니다!\n",
      "05월 11일 19시 18분 44초\n",
      "6번째 캡처 완료했습니다!\n",
      "05월 11일 19시 19분 09초\n",
      "7번째 캡처 완료했습니다!\n",
      "05월 11일 19시 19분 34초\n",
      "8번째 캡처 완료했습니다!\n",
      "05월 11일 19시 19분 59초\n",
      "9번째 캡처 완료했습니다!\n",
      "05월 11일 19시 20분 24초\n",
      "10번째 캡처 완료했습니다!\n",
      "05월 11일 19시 20분 48초\n"
     ]
    },
    {
     "data": {
      "text/plain": [
       "<bound method ChromiumDriver.quit of <selenium.webdriver.chrome.webdriver.WebDriver (session=\"4e22a9fb105127909e71e5f797503ded\")>>"
      ]
     },
     "execution_count": 13,
     "metadata": {},
     "output_type": "execute_result"
    }
   ],
   "source": [
    "for i in range(10):\n",
    "    browser = webdriver.Chrome(executable_path='./chromedriver')\n",
    "    browser.get('http://www.utic.go.kr/view/map/cctvStream.jsp?cctvid=E04004&cctvname=%255B%25EA%25B0%2595%25EB%25B3%2580%25EB%25B6%2581%25EB%25A1%259C%255D%2520%25EA%25B0%2580%25EC%2596%2591%25EB%258C%2580%25EA%25B5%2590~%25EB%2582%259C%25EC%25A7%2580IC&kind=A&cctvip=176&cctvch=null&id=1&cctvpasswd=null&cctvport=445&minX=126.79873844156069&minY=37.523181398197465&maxX=127.01854446166621&maxY=37.609748151015005')\n",
    "    time.sleep(5)\n",
    "    browser.find_element_by_css_selector(\"#vid > div.vjs-control-bar > button.vjs-fullscreen-control.vjs-control.vjs-button\").click()\n",
    "    time.sleep(5)\n",
    "    scrennshot = browser.save_screenshot(f'./screenshot/scrennshot{i+1}.png')\n",
    "\n",
    "    print(f\"{i+1}번째 캡처 완료했습니다!\")  \n",
    "    print(time.strftime('%m월 %d일 %H시 %M분 %S초', time.localtime(time.time())))\n",
    "    time.sleep(10)\n",
    "    \n",
    "    # 이렇게 하면 15초 간격으로 촬영할 수 있게 됨\n",
    "    \n",
    "browser.quit\n"
   ]
  },
  {
   "cell_type": "code",
   "execution_count": null,
   "id": "181b6cbb",
   "metadata": {},
   "outputs": [],
   "source": []
  }
 ],
 "metadata": {
  "kernelspec": {
   "display_name": "Python 3 (ipykernel)",
   "language": "python",
   "name": "python3"
  },
  "language_info": {
   "codemirror_mode": {
    "name": "ipython",
    "version": 3
   },
   "file_extension": ".py",
   "mimetype": "text/x-python",
   "name": "python",
   "nbconvert_exporter": "python",
   "pygments_lexer": "ipython3",
   "version": "3.9.7"
  }
 },
 "nbformat": 4,
 "nbformat_minor": 5
}
