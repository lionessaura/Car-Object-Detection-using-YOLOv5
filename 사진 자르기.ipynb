{
 "cells": [
  {
   "cell_type": "code",
   "execution_count": 1,
   "id": "65bef548",
   "metadata": {},
   "outputs": [],
   "source": [
    "from PIL import Image\n"
   ]
  },
  {
   "cell_type": "code",
   "execution_count": 15,
   "id": "bf67c776",
   "metadata": {},
   "outputs": [
    {
     "name": "stdout",
     "output_type": "stream",
     "text": [
      "(1920, 1024)\n"
     ]
    }
   ],
   "source": [
    "image1 = Image.open(f'C:/python/Crawling_Practice/screenshot/scrennshot5.png')\n",
    "\n",
    "image1.show()\n",
    " \n",
    "#이미지의 크기 출력\n",
    "print(image1.size)\n"
   ]
  },
  {
   "cell_type": "code",
   "execution_count": 16,
   "id": "887a408f",
   "metadata": {},
   "outputs": [
    {
     "name": "stdout",
     "output_type": "stream",
     "text": [
      "잘려진 사진 크기 : (1570, 400)\n"
     ]
    }
   ],
   "source": [
    "# 이미지 자르기 crop함수 이용 ex. crop(left,up, rigth, down)\n",
    "croppedImage=image1.crop((150,400,1720, 800))\n",
    " \n",
    "croppedImage.show()\n",
    " \n",
    "print(\"잘려진 사진 크기 :\",croppedImage.size)\n",
    " \n",
    "croppedImage.save('croppedImage.PNG')\n"
   ]
  },
  {
   "cell_type": "code",
   "execution_count": null,
   "id": "9946b093",
   "metadata": {},
   "outputs": [],
   "source": [
    "image1 = Image.open('3year.PNG')\n",
    "\n",
    "\n",
    "for i in range(10):\n",
    "    img1 = Image.open(f'C:/python/Crawling_Practice/screenshot/scrennshot{i+1}.png')\n",
    "\n",
    "\n",
    "\n",
    "\n",
    "\n",
    "image1.show()\n",
    " \n",
    "#이미지의 크기 출력\n",
    "print(image1.size)\n",
    " \n",
    "# 이미지 자르기 crop함수 이용 ex. crop(left,up, rigth, down)\n",
    "croppedImage=image1.crop((10,10,100,100))\n",
    " \n",
    "croppedImage.show()\n",
    " \n",
    "print(\"잘려진 사진 크기 :\",croppedImage.size)\n",
    " \n",
    "croppedImage.save('croppedImage.PNG')"
   ]
  }
 ],
 "metadata": {
  "kernelspec": {
   "display_name": "Python 3 (ipykernel)",
   "language": "python",
   "name": "python3"
  },
  "language_info": {
   "codemirror_mode": {
    "name": "ipython",
    "version": 3
   },
   "file_extension": ".py",
   "mimetype": "text/x-python",
   "name": "python",
   "nbconvert_exporter": "python",
   "pygments_lexer": "ipython3",
   "version": "3.9.7"
  }
 },
 "nbformat": 4,
 "nbformat_minor": 5
}
